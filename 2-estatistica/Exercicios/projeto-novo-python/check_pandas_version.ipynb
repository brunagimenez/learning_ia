{
 "cells": [
  {
   "cell_type": "markdown",
   "id": "1fa2536d",
   "metadata": {},
   "source": [
    "## Exemplo de Código no Jupyter Notebook"
   ]
  },
  {
   "cell_type": "markdown",
   "id": "830378c3",
   "metadata": {},
   "source": [
    "### importar bibliotecas"
   ]
  },
  {
   "cell_type": "code",
   "execution_count": 9,
   "id": "a09e2214",
   "metadata": {},
   "outputs": [],
   "source": [
    "## Importar Libs\n",
    "\n",
    "import pandas as pd\n"
   ]
  },
  {
   "cell_type": "code",
   "execution_count": 10,
   "id": "a39cab09",
   "metadata": {},
   "outputs": [
    {
     "data": {
      "text/plain": [
       "'2.2.3'"
      ]
     },
     "execution_count": 10,
     "metadata": {},
     "output_type": "execute_result"
    }
   ],
   "source": [
    "## Checar versão do Pandas\n",
    "pd.__version__"
   ]
  }
 ],
 "metadata": {
  "kernelspec": {
   "display_name": "Python 3",
   "language": "python",
   "name": "python3"
  },
  "language_info": {
   "codemirror_mode": {
    "name": "ipython",
    "version": 3
   },
   "file_extension": ".py",
   "mimetype": "text/x-python",
   "name": "python",
   "nbconvert_exporter": "python",
   "pygments_lexer": "ipython3",
   "version": "3.11.9"
  }
 },
 "nbformat": 4,
 "nbformat_minor": 5
}
